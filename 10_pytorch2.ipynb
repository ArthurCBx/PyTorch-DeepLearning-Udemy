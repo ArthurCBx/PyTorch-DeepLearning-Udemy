{
  "cells": [
    {
      "cell_type": "markdown",
      "metadata": {
        "id": "view-in-github",
        "colab_type": "text"
      },
      "source": [
        "<a href=\"https://colab.research.google.com/github/ArthurCBx/PyTorch-DeepLearning-Udemy/blob/main/10_pytorch2.ipynb\" target=\"_parent\"><img src=\"https://colab.research.google.com/assets/colab-badge.svg\" alt=\"Open In Colab\"/></a>"
      ]
    },
    {
      "cell_type": "markdown",
      "metadata": {
        "id": "Wayf0CJ6GX2h"
      },
      "source": [
        "# PyTorch 2 Quick Intro\n",
        "* Pytorch 2.0 release notes - https://pytorch.org/get-started/pytorch-2-x/#overview\n",
        "* Reference book - https://www.learnpytorch.io/pytorch_2_intro/"
      ]
    },
    {
      "cell_type": "code",
      "execution_count": null,
      "metadata": {
        "id": "mL7YWuwsGS92"
      },
      "outputs": [],
      "source": [
        "import torch\n",
        "\n",
        "torch.__version__"
      ]
    },
    {
      "cell_type": "markdown",
      "metadata": {
        "id": "pa9WiK4IHosi"
      },
      "source": [
        "## Quick code examples"
      ]
    },
    {
      "cell_type": "markdown",
      "metadata": {
        "id": "nE4wZRtLHqq0"
      },
      "source": [
        "### Before PyTorch 2.0"
      ]
    },
    {
      "cell_type": "code",
      "execution_count": null,
      "metadata": {
        "id": "ziicLtu-Hlpr"
      },
      "outputs": [],
      "source": [
        "import torch\n",
        "import torchvision\n",
        "\n",
        "model = torchvision.models.resnet18()"
      ]
    },
    {
      "cell_type": "markdown",
      "metadata": {
        "id": "6IMk902qH00S"
      },
      "source": [
        "### After PyTorch 2.0"
      ]
    },
    {
      "cell_type": "markdown",
      "metadata": {
        "id": "o0XY4VZEILPe"
      },
      "source": [
        "Note: some PyTorch 2.0 features may hinder the deployment of models"
      ]
    },
    {
      "cell_type": "code",
      "execution_count": null,
      "metadata": {
        "id": "84vr_2cpH3HX"
      },
      "outputs": [],
      "source": [
        "import torch\n",
        "import torchvision\n",
        "model = torchvision.models.resnet18()\n",
        "compiled_model = torch.compile(model)\n",
        "\n",
        "## compiled_model already able to be trained ##"
      ]
    },
    {
      "cell_type": "markdown",
      "metadata": {
        "id": "DrT3m6xAI1od"
      },
      "source": [
        "## 1. Get GPU info\n",
        "\n",
        "Why get GPU info ?\n",
        "\n",
        "Because PyTorch 2.0 features (`torch.compile()`) work best on newer NVIDIA GPUs.\n",
        "\n",
        "Well, what's a newer NVIDIA GPU?\n",
        "\n",
        "To find out if your GPU is compatible, see NVIDIA GPU compatibility score - https://developer.nvidia.com/cuda-gpus\n",
        "\n",
        "If your GPU has a score of 8.0+, it can leverage *most* if not *all* of the new PyTorch 2.0 features.\n",
        "\n",
        "GPUs under 8,0 can still leverage PyTorch 2.0, however, the improvements may not be as noticiable as thos with 8.0+.\n",
        "\n",
        "**Note:\"** If you're wondering what GPU you should use for deep learning, check out Tim Dettmers blog post \"Which GPU for deep learning?\" - https://timdettmers.com/2023/01/30/which-gpu-for-deep-learning/"
      ]
    },
    {
      "cell_type": "code",
      "execution_count": null,
      "metadata": {
        "id": "skCC2bSRIUeI"
      },
      "outputs": [],
      "source": [
        "if torch.cuda.is_available():\n",
        "  # Get GPU Architecture\n",
        "  GPU_SCORE = torch.cuda.get_device_capability()\n",
        "  print(f\"GPU capability score: {GPU_SCORE}\")\n",
        "  if GPU_SCORE >= (8, 0):\n",
        "    print(f\"GPU score higher than or equal to (8, 0), PyTorch 2.x speedup features available\")\n",
        "  else:\n",
        "    print(f\"GPU score lower than (8, 0), PyTorch 2.x speedup features will be limited\")\n",
        "else:\n",
        "  print(\"PyTorch couldn't find a GPU to leverage the best of PyTorch 2.0\")"
      ]
    },
    {
      "cell_type": "markdown",
      "metadata": {
        "id": "RYT80spfttPJ"
      },
      "source": [
        "### 1.1 Globablly set devices\n",
        "\n",
        "Previously we've set the device of our tensors/models using `to.(device)`.\n",
        "\n",
        "* `tensor.to(device)`\n",
        "* `model.to(device)`\n",
        "\n",
        "But in PyTorch 2.0, it's possible to set the device with a context manager as well as a global device"
      ]
    },
    {
      "cell_type": "code",
      "execution_count": null,
      "metadata": {
        "id": "pa4O57WprpUq"
      },
      "outputs": [],
      "source": [
        "import torch\n",
        "\n",
        "# Set the device\n",
        "device = \"cuda\" if torch.cuda.is_available() else \"cpu\"\n",
        "print(f\"Device: {device}\")\n",
        "\n",
        "# Set the device with context manager (requires PyTorch 2.x+)\n",
        "with torch.device(device):\n",
        "  # All tensors or PyTorch objects created in the context manager will be on the target device without using .to()\n",
        "  layer = torch.nn.Linear(20, 30)\n",
        "  print(f\"Layer weights are on device: {layer.weight.device}\")\n",
        "  print(f\"Layer creating data on device: {layer(torch.randn(128, 20)).device}\")\n",
        "# Set the device globally (requires PyTorch 2.x+)"
      ]
    },
    {
      "cell_type": "code",
      "execution_count": null,
      "metadata": {
        "id": "2iHezu_QwsTw"
      },
      "outputs": [],
      "source": [
        "import torch\n",
        "\n",
        "# Set the device\n",
        "device = \"cuda\" if torch.cuda.is_available() else \"cpu\"\n",
        "\n",
        "# Set the device globally\n",
        "torch.set_default_device(device)\n",
        "\n",
        "# All tensors or PyTorch objects created in the context manager will be on the target device without using .to()\n",
        "layer = torch.nn.Linear(20, 30)\n",
        "print(f\"Layer weights are on device: {layer.weight.device}\")\n",
        "print(f\"Layer creating data on device: {layer(torch.randn(128, 20)).device}\")"
      ]
    },
    {
      "cell_type": "markdown",
      "metadata": {
        "id": "_viCNJegySup"
      },
      "source": [
        "If you want to go back to CPU, just code `torch.set_default_device(\"cuda\")"
      ]
    },
    {
      "cell_type": "markdown",
      "metadata": {
        "id": "lZCTAzkzKhRW"
      },
      "source": [
        "## 2. Setting up the experiments\n",
        "\n",
        "Time to test speed!\n",
        "\n",
        "To keep things simple, we'll run 4 experiments:\n",
        "\n",
        "* Model: ResNet50 from torchvision\n",
        "* Data: CIFAR10 from torchvision\n",
        "* Epochs: 5 (single run) and 3x5 (multi run)\n",
        "* Batch size: 128 (note: you may want to change this depending on the amount of memory your GPU has, this tutorial focuses on an A100)\n",
        "* Image size: 224 (note: you may wnat to adjust this given the amount of GPU memory you have)"
      ]
    },
    {
      "cell_type": "markdown",
      "metadata": {
        "id": "pwBP7nxWPGqE"
      },
      "source": [
        "### 2.1 Create model and transforms\n",
        "\n",
        "* ResNet50 from PyTorch"
      ]
    },
    {
      "cell_type": "code",
      "execution_count": null,
      "metadata": {
        "id": "UqHYUE5OPWKh"
      },
      "outputs": [],
      "source": [
        "# Create model weights and transforms\n",
        "model = torchvision.models.resnet50(weights=torchvision.models.ResNet50_Weights.DEFAULT)\n",
        "transforms = torchvision.models.ResNet50_Weights.DEFAULT.transforms()\n",
        "model"
      ]
    },
    {
      "cell_type": "code",
      "execution_count": null,
      "metadata": {
        "id": "Qldjs2M2Qkv_"
      },
      "outputs": [],
      "source": [
        "# Count the number of parametes in the model\n",
        "total_params = sum(\n",
        "    param.numel() for param in model.parameters()\n",
        "    # param.numer() for param in model.parameters() if param.requires_grad = True -> Only counts parameters that are trainable\n",
        ")\n",
        "total_params"
      ]
    },
    {
      "cell_type": "markdown",
      "metadata": {
        "id": "65eUQR3xRDNw"
      },
      "source": [
        "**Note:** PyTorch 2.0 *relative* speedups will be most noticeable when as much of the GPU as possible is being used. This means a larger model (more trainable parameters) may take longer to train on the whole but will be relatively faster. E.g. a model with 1M parameters may take ~10 minutes to train but a model with 25M parameters may take ~20 minutes to train."
      ]
    },
    {
      "cell_type": "code",
      "execution_count": null,
      "metadata": {
        "id": "M5he0zAfRzRA"
      },
      "outputs": [],
      "source": [
        "def create_model(num_classes=10):\n",
        "  \"\"\"\n",
        "  Creates a resnet50 model with transforms and returns them both.\n",
        "  \"\"\"\n",
        "  model = torchvision.models.resnet50(weights=torchvision.models.ResNet50_Weights.DEFAULT)\n",
        "  transforms = torchvision.models.ResNet50_Weights.DEFAULT.transforms()\n",
        "\n",
        "  # Adjust the head layer to suit our number of classes\n",
        "  model.fc = torch.nn.Linear(in_features=2048,\n",
        "                             out_features=10)\n",
        "\n",
        "  return model, transforms"
      ]
    },
    {
      "cell_type": "code",
      "execution_count": null,
      "metadata": {
        "id": "fRHLA-SZS-fh"
      },
      "outputs": [],
      "source": [
        "model, transforms = create_model()\n",
        "transforms"
      ]
    },
    {
      "cell_type": "markdown",
      "metadata": {
        "id": "cSFtpaOxVTbE"
      },
      "source": [
        "### 2.2 Speedups are most noticeable when a large portion of the GPU is being used\n",
        "\n",
        "Since modern GPUs are so *fast* at performing operations, you will often notice the majority of *relative* speedups when as much data as possible is on the GPU.\n",
        "\n",
        "In practice, you generally want to use as much of your GPU memory as possible.\n",
        "\n",
        "* Increasing the batch size - we've been using batch size 32 but for GPUs with a larger memory capacity you'll generally want to use as large as possible, e.g. 128, 256, 512 etc\n",
        "* Increasing data size - for example instead of using images that are 32x32, use 224x224 or 336x336, also you could use an increased embedding size for your data\n",
        "* Increase the model size - for example instead of using a model with 1M parameters, use a model with 10M parameters\n",
        "* Decreasing data transfer - since bandwidth costs (transfering data) will slow down a GPU (because it wants to compute on data)\n",
        "\n",
        "As a result of doing the above, your relative speedups should be better.\n",
        "\n",
        "E.g. overall training time may take longer but not linearly.\n",
        "\n",
        "Resource for learning how to improve PyTorch model speed - https://sebastianraschka.com/blog/2023/pytorch-faster.html\n",
        "\n",
        "**Note:** This concept of using as much data on the GPU as possible isn't restricterd specifically to PyTorch 2.0, it applies to all versions on PyTorch and basically all models that train on GPUs"
      ]
    },
    {
      "cell_type": "markdown",
      "metadata": {
        "id": "etPZ3DDgXOnW"
      },
      "source": [
        "### 2.3 Checking the memory limits of our GPU\n",
        "\n",
        "Can do so using `torch.cuda`"
      ]
    },
    {
      "cell_type": "code",
      "execution_count": null,
      "metadata": {
        "id": "SE8WZJx8XvpI"
      },
      "outputs": [],
      "source": [
        "# Check available GPU memory and total GPU memory\n",
        "total_free_gpu_memory, total_gpu_memory = torch.cuda.mem_get_info() # Return in bytes\n",
        "print(f\"Total free GPU memory: {round(total_free_gpu_memory * 1e-9, 3)} GB\")"
      ]
    },
    {
      "cell_type": "markdown",
      "metadata": {
        "id": "V3Q02CWsYbcF"
      },
      "source": [
        "* If the GPU has 16GB+ of free memory, set batch size to 128\n",
        "* If the GPU has less than 16GB of free memory, set batch size to 32"
      ]
    },
    {
      "cell_type": "code",
      "execution_count": null,
      "metadata": {
        "id": "m5OsqWPOYVE-"
      },
      "outputs": [],
      "source": [
        "total_free_gpu_memory = round(total_free_gpu_memory*1e-9, 3) # Return in bytes\n",
        "if total_free_gpu_memory >= 16:\n",
        "  BATCH_SIZE = 128\n",
        "  IMAGE_SIZE = 224\n",
        "else:\n",
        "  BATCH_SIZE = 32\n",
        "  IMAGE_SIZE = 128\n",
        "print(f\"GPU memory available is {total_free_gpu_memory} GB, using batch size of {BATCH_SIZE}\")"
      ]
    },
    {
      "cell_type": "code",
      "execution_count": null,
      "metadata": {
        "id": "fXLqRUtXdviw"
      },
      "outputs": [],
      "source": [
        "transforms.crop_size = IMAGE_SIZE\n",
        "transforms.resize_size = IMAGE_SIZE\n",
        "print(f\"Update data transforms:\\n{transforms}\")"
      ]
    },
    {
      "cell_type": "markdown",
      "metadata": {
        "id": "Z9Cceudngpfl"
      },
      "source": [
        "### 2.4 More potential speedups with TF32\n",
        "\n",
        "TF32 = TensorFloat32\n",
        "\n",
        "Float32 = a number which is presented by 32 bytes\n",
        "\n",
        "What we want is:\n",
        "1. Fast model training\n",
        "2. Accurate model training\n",
        "\n",
        "TensorFloat32 = a datatype from NVIDIA which combines float32 and float16\n",
        "\n",
        "FT32 is available on Ampere GPUs+"
      ]
    },
    {
      "cell_type": "code",
      "execution_count": null,
      "metadata": {
        "id": "FN_LNqqzeiH-"
      },
      "outputs": [],
      "source": [
        "if GPU_SCORE >= (8, 0):\n",
        "  print(f\"[INFO] Using GPU with score: {GPU_SCORE}, enabling TensorFloat32\")\n",
        "  torch.backends.cuda.matmul.allow_tf32 = True\n",
        "else:\n",
        "  print(f\"[INFO] Using GPU with score: {GPU_SCORE}, TensorFloat32 not available\")\n",
        "  torch.backends.cuda.matmul.allow_tf32 = False"
      ]
    },
    {
      "cell_type": "markdown",
      "metadata": {
        "id": "zqq6-ZuY_1H6"
      },
      "source": [
        "### 2.5 Preparing datasets\n",
        "\n",
        "As before, we discussed we're going to use CIFAR10\n",
        "\n",
        "Homepage - https://www-cs-toronto-edu.translate.goog/~kriz/cifar.html?_x_tr_sl=en&_x_tr_tl=pt&_x_tr_hl=pt&_x_tr_pto=tc\n",
        "\n",
        "We can download the dataset from torchvision"
      ]
    },
    {
      "cell_type": "code",
      "execution_count": null,
      "metadata": {
        "id": "cOOrmNCFL_zm"
      },
      "outputs": [],
      "source": [
        "# Create train and test datasets\n",
        "train_dataset = torchvision.datasets.CIFAR10(root=\".\",download=True, train=True, transform=transforms)\n",
        "test_dataset = torchvision.datasets.CIFAR10(root=\".\",download=True, train=False, transform=transforms)\n",
        "\n",
        "# Get the length of the datasets\n",
        "train_len = len(train_dataset)\n",
        "test_len = len(test_dataset)\n",
        "print(f\"[INFO] Length of train dataset: {train_len}\")\n",
        "print(f\"[INFO] Length of test dataset: {test_len}\")"
      ]
    },
    {
      "cell_type": "markdown",
      "metadata": {
        "id": "0DKFwtOUBBnK"
      },
      "source": [
        "### 2.6 Create DataLoaders"
      ]
    },
    {
      "cell_type": "code",
      "execution_count": null,
      "metadata": {
        "id": "ESWX_qUd0rAL"
      },
      "outputs": [],
      "source": [
        "import torch.multiprocessing as mp\n",
        "# Define o método de multiprocessing para \"spawn\", que é seguro para CUDA\n",
        "\n",
        "try:\n",
        "  mp.set_start_method(\"spawn\",force=True)\n",
        "  print(\"Multiprocessing set to spawn\")\n",
        "except RuntimeError:\n",
        "  print(\"Multiprocessing already set to spawn\")"
      ]
    },
    {
      "cell_type": "code",
      "execution_count": null,
      "metadata": {
        "id": "WFqWOfMzAko6"
      },
      "outputs": [],
      "source": [
        "import os\n",
        "device = \"cuda\" if torch.cuda.is_available() else \"cpu\"\n",
        "g = torch.Generator(device=device)\n",
        "\n",
        "NUM_WORKERS = os.cpu_count() # We want highest number of CPU cores to load data to GPU\n",
        "print(f\"[INFO] Number of workers: {NUM_WORKERS}\")\n",
        "train_dataloader = torch.utils.data.DataLoader(dataset=train_dataset,\n",
        "                                               batch_size=BATCH_SIZE,\n",
        "                                               shuffle=True,\n",
        "                                               num_workers=NUM_WORKERS,\n",
        "                                               generator=g)\n",
        "\n",
        "test_dataloader = torch.utils.data.DataLoader(dataset=test_dataset,\n",
        "                                              batch_size=BATCH_SIZE,\n",
        "                                              shuffle=False,\n",
        "                                              num_workers=NUM_WORKERS)\n",
        "\n",
        "# Print details\n",
        "print(f\"Train dataloader num batches: {len(train_dataloader)} of batch size: {BATCH_SIZE}\")\n",
        "print(f\"Test dataloader num batches: {len(test_dataloader)} of batch size: {BATCH_SIZE}\")\n",
        "print(f\"Using num workers to load data (more is generally better): {NUM_WORKERS}\")"
      ]
    },
    {
      "cell_type": "markdown",
      "metadata": {
        "id": "3t3YUU3iD7JI"
      },
      "source": [
        "### 2.7 Creating training and testing loops\n",
        "\n",
        "Want to create:\n",
        "* Training and test loops + a timing step for each, so we know how long our models take to train/test\n",
        "\n",
        "We covered this functionality in previous sections"
      ]
    },
    {
      "cell_type": "code",
      "execution_count": null,
      "metadata": {
        "id": "KdEWz9HiDzFK"
      },
      "outputs": [],
      "source": [
        "import time\n",
        "from tqdm.auto import tqdm\n",
        "from typing import Dict, List, Tuple\n",
        "\n",
        "def train_step(epoch: int,\n",
        "               model: torch.nn.Module,\n",
        "               dataloader: torch.utils.data.DataLoader,\n",
        "               loss_fn: torch.nn.Module,\n",
        "               optimizer: torch.optim.Optimizer,\n",
        "               device: torch.device,\n",
        "               disable_progress_bar: bool = False) -> Tuple[float, float]:\n",
        "  \"\"\"Trains a PyTorch model for a single epoch.\n",
        "\n",
        "  Turns a target PyTorch model to training mode and then\n",
        "  runs through all of the required training steps (forward\n",
        "  pass, loss calculation, optimizer step).\n",
        "\n",
        "  Args:\n",
        "    model: A PyTorch model to be trained.\n",
        "    dataloader: A DataLoader instance for the model to be trained on.\n",
        "    loss_fn: A PyTorch loss function to minimize.\n",
        "    optimizer: A PyTorch optimizer to help minimize the loss function.\n",
        "    device: A target device to compute on (e.g. \"cuda\" or \"cpu\").\n",
        "\n",
        "  Returns:\n",
        "    A tuple of training loss and training accuracy metrics.\n",
        "    In the form (train_loss, train_accuracy). For example:\n",
        "\n",
        "    (0.1112, 0.8743)\n",
        "  \"\"\"\n",
        "  # Put model in train mode\n",
        "  model.train()\n",
        "\n",
        "  # Setup train loss and train accuracy values\n",
        "  train_loss, train_acc = 0, 0\n",
        "\n",
        "  # Loop through data loader data batches\n",
        "  progress_bar = tqdm(\n",
        "        enumerate(dataloader),\n",
        "        desc=f\"Training Epoch {epoch}\",\n",
        "        total=len(dataloader),\n",
        "        disable=disable_progress_bar\n",
        "    )\n",
        "\n",
        "  for batch, (X, y) in progress_bar:\n",
        "      # Send data to target device\n",
        "      X, y = X.to(device), y.to(device)\n",
        "\n",
        "      # 1. Forward pass\n",
        "      y_pred = model(X)\n",
        "\n",
        "      # 2. Calculate  and accumulate loss\n",
        "      loss = loss_fn(y_pred, y)\n",
        "      train_loss += loss.item()\n",
        "\n",
        "      # 3. Optimizer zero grad\n",
        "      optimizer.zero_grad()\n",
        "\n",
        "      # 4. Loss backward\n",
        "      loss.backward()\n",
        "\n",
        "      # 5. Optimizer step\n",
        "      optimizer.step()\n",
        "\n",
        "      # Calculate and accumulate accuracy metrics across all batches\n",
        "      y_pred_class = torch.argmax(torch.softmax(y_pred, dim=1), dim=1)\n",
        "      train_acc += (y_pred_class == y).sum().item()/len(y_pred)\n",
        "\n",
        "      # Update progress bar\n",
        "      progress_bar.set_postfix(\n",
        "            {\n",
        "                \"train_loss\": train_loss / (batch + 1),\n",
        "                \"train_acc\": train_acc / (batch + 1),\n",
        "            }\n",
        "        )\n",
        "\n",
        "\n",
        "  # Adjust metrics to get average loss and accuracy per batch\n",
        "  train_loss = train_loss / len(dataloader)\n",
        "  train_acc = train_acc / len(dataloader)\n",
        "  return train_loss, train_acc\n",
        "\n",
        "def test_step(epoch: int,\n",
        "              model: torch.nn.Module,\n",
        "              dataloader: torch.utils.data.DataLoader,\n",
        "              loss_fn: torch.nn.Module,\n",
        "              device: torch.device,\n",
        "              disable_progress_bar: bool = False) -> Tuple[float, float]:\n",
        "  \"\"\"Tests a PyTorch model for a single epoch.\n",
        "\n",
        "  Turns a target PyTorch model to \"eval\" mode and then performs\n",
        "  a forward pass on a testing dataset.\n",
        "\n",
        "  Args:\n",
        "    model: A PyTorch model to be tested.\n",
        "    dataloader: A DataLoader instance for the model to be tested on.\n",
        "    loss_fn: A PyTorch loss function to calculate loss on the test data.\n",
        "    device: A target device to compute on (e.g. \"cuda\" or \"cpu\").\n",
        "\n",
        "  Returns:\n",
        "    A tuple of testing loss and testing accuracy metrics.\n",
        "    In the form (test_loss, test_accuracy). For example:\n",
        "\n",
        "    (0.0223, 0.8985)\n",
        "  \"\"\"\n",
        "  # Put model in eval mode\n",
        "  model.eval()\n",
        "\n",
        "  # Setup test loss and test accuracy values\n",
        "  test_loss, test_acc = 0, 0\n",
        "\n",
        "  # Loop through data loader data batches\n",
        "  progress_bar = tqdm(\n",
        "      enumerate(dataloader),\n",
        "      desc=f\"Testing Epoch {epoch}\",\n",
        "      total=len(dataloader),\n",
        "      disable=disable_progress_bar\n",
        "  )\n",
        "\n",
        "  # Turn on inference context manager\n",
        "  with torch.no_grad(): # no_grad() required for PyTorch 2.0, I found some errors with `torch.inference_mode()`, please let me know if this is not the case\n",
        "      # Loop through DataLoader batches\n",
        "      for batch, (X, y) in progress_bar:\n",
        "          # Send data to target device\n",
        "          X, y = X.to(device), y.to(device)\n",
        "\n",
        "          # 1. Forward pass\n",
        "          test_pred_logits = model(X)\n",
        "\n",
        "          # 2. Calculate and accumulate loss\n",
        "          loss = loss_fn(test_pred_logits, y)\n",
        "          test_loss += loss.item()\n",
        "\n",
        "          # Calculate and accumulate accuracy\n",
        "          test_pred_labels = test_pred_logits.argmax(dim=1)\n",
        "          test_acc += ((test_pred_labels == y).sum().item()/len(test_pred_labels))\n",
        "\n",
        "          # Update progress bar\n",
        "          progress_bar.set_postfix(\n",
        "              {\n",
        "                  \"test_loss\": test_loss / (batch + 1),\n",
        "                  \"test_acc\": test_acc / (batch + 1),\n",
        "              }\n",
        "          )\n",
        "\n",
        "  # Adjust metrics to get average loss and accuracy per batch\n",
        "  test_loss = test_loss / len(dataloader)\n",
        "  test_acc = test_acc / len(dataloader)\n",
        "  return test_loss, test_acc\n",
        "\n",
        "def train(model: torch.nn.Module,\n",
        "          train_dataloader: torch.utils.data.DataLoader,\n",
        "          test_dataloader: torch.utils.data.DataLoader,\n",
        "          optimizer: torch.optim.Optimizer,\n",
        "          loss_fn: torch.nn.Module,\n",
        "          epochs: int,\n",
        "          device: torch.device,\n",
        "          disable_progress_bar: bool = False) -> Dict[str, List]:\n",
        "  \"\"\"Trains and tests a PyTorch model.\n",
        "\n",
        "  Passes a target PyTorch models through train_step() and test_step()\n",
        "  functions for a number of epochs, training and testing the model\n",
        "  in the same epoch loop.\n",
        "\n",
        "  Calculates, prints and stores evaluation metrics throughout.\n",
        "\n",
        "  Args:\n",
        "    model: A PyTorch model to be trained and tested.\n",
        "    train_dataloader: A DataLoader instance for the model to be trained on.\n",
        "    test_dataloader: A DataLoader instance for the model to be tested on.\n",
        "    optimizer: A PyTorch optimizer to help minimize the loss function.\n",
        "    loss_fn: A PyTorch loss function to calculate loss on both datasets.\n",
        "    epochs: An integer indicating how many epochs to train for.\n",
        "    device: A target device to compute on (e.g. \"cuda\" or \"cpu\").\n",
        "\n",
        "  Returns:\n",
        "    A dictionary of training and testing loss as well as training and\n",
        "    testing accuracy metrics. Each metric has a value in a list for\n",
        "    each epoch.\n",
        "    In the form: {train_loss: [...],\n",
        "                  train_acc: [...],\n",
        "                  test_loss: [...],\n",
        "                  test_acc: [...]}\n",
        "    For example if training for epochs=2:\n",
        "                 {train_loss: [2.0616, 1.0537],\n",
        "                  train_acc: [0.3945, 0.3945],\n",
        "                  test_loss: [1.2641, 1.5706],\n",
        "                  test_acc: [0.3400, 0.2973]}\n",
        "  \"\"\"\n",
        "  # Create empty results dictionary\n",
        "  results = {\"train_loss\": [],\n",
        "      \"train_acc\": [],\n",
        "      \"test_loss\": [],\n",
        "      \"test_acc\": [],\n",
        "      \"train_epoch_time\": [],\n",
        "      \"test_epoch_time\": []\n",
        "  }\n",
        "\n",
        "  # Loop through training and testing steps for a number of epochs\n",
        "  for epoch in tqdm(range(epochs), disable=disable_progress_bar):\n",
        "\n",
        "      # Perform training step and time it\n",
        "      train_epoch_start_time = time.time()\n",
        "      train_loss, train_acc = train_step(epoch=epoch,\n",
        "                                        model=model,\n",
        "                                        dataloader=train_dataloader,\n",
        "                                        loss_fn=loss_fn,\n",
        "                                        optimizer=optimizer,\n",
        "                                        device=device,\n",
        "                                        disable_progress_bar=disable_progress_bar)\n",
        "      train_epoch_end_time = time.time()\n",
        "      train_epoch_time = train_epoch_end_time - train_epoch_start_time\n",
        "\n",
        "      # Perform testing step and time it\n",
        "      test_epoch_start_time = time.time()\n",
        "      test_loss, test_acc = test_step(epoch=epoch,\n",
        "                                      model=model,\n",
        "                                      dataloader=test_dataloader,\n",
        "                                      loss_fn=loss_fn,\n",
        "                                      device=device,\n",
        "                                      disable_progress_bar=disable_progress_bar)\n",
        "      test_epoch_end_time = time.time()\n",
        "      test_epoch_time = test_epoch_end_time - test_epoch_start_time\n",
        "\n",
        "      # Print out what's happening\n",
        "      print(\n",
        "          f\"Epoch: {epoch+1} | \"\n",
        "          f\"train_loss: {train_loss:.4f} | \"\n",
        "          f\"train_acc: {train_acc:.4f} | \"\n",
        "          f\"test_loss: {test_loss:.4f} | \"\n",
        "          f\"test_acc: {test_acc:.4f} | \"\n",
        "          f\"train_epoch_time: {train_epoch_time:.4f} | \"\n",
        "          f\"test_epoch_time: {test_epoch_time:.4f}\"\n",
        "      )\n",
        "\n",
        "      # Update results dictionary\n",
        "      results[\"train_loss\"].append(train_loss)\n",
        "      results[\"train_acc\"].append(train_acc)\n",
        "      results[\"test_loss\"].append(test_loss)\n",
        "      results[\"test_acc\"].append(test_acc)\n",
        "      results[\"train_epoch_time\"].append(train_epoch_time)\n",
        "      results[\"test_epoch_time\"].append(test_epoch_time)\n",
        "\n",
        "  # Return the filled results at the end of the epochs\n",
        "  return results"
      ]
    },
    {
      "cell_type": "markdown",
      "metadata": {
        "id": "k4_nnyv_IRky"
      },
      "source": [
        "## 3. Time models across a single run\n",
        "Experiment 1: single run without `torch.compile()` for 5 epochs"
      ]
    },
    {
      "cell_type": "markdown",
      "metadata": {
        "id": "b8syfKOOJAp3"
      },
      "source": [
        "### 3.1 Experiment 1 = single run, no compile"
      ]
    },
    {
      "cell_type": "markdown",
      "metadata": {
        "id": "m3GZR-oNL83_"
      },
      "source": [
        "**Note:** Depending on your GPU/machine, the following code may take a while to run."
      ]
    },
    {
      "cell_type": "code",
      "execution_count": null,
      "metadata": {
        "id": "GURF9MEdIeab"
      },
      "outputs": [],
      "source": [
        "optimizer = torch.optim.Adam(params=model.parameters(), lr=0.001)\n",
        "loss_fn = torch.nn.CrossEntropyLoss()\n",
        "device = torch.device('cuda' if torch.cuda.is_available() else 'cpu')\n",
        "model.to(device)\n",
        "single_run_no_compile_results = train(model=model,\n",
        "                                      train_dataloader=train_dataloader,\n",
        "                                      test_dataloader=test_dataloader,\n",
        "                                      optimizer = optimizer,\n",
        "                                      loss_fn = loss_fn,\n",
        "                                      epochs = 5,\n",
        "                                      device = device)"
      ]
    },
    {
      "cell_type": "code",
      "execution_count": null,
      "metadata": {
        "id": "_4SIPuwG35bv"
      },
      "outputs": [],
      "source": [
        "single_run_no_compile_results"
      ]
    },
    {
      "cell_type": "markdown",
      "metadata": {
        "id": "xmtIG0MO4NtK"
      },
      "source": [
        "### 3.2 Experiment 2 = single run, using `torch.compile()`\n",
        "\n",
        "Same setup as experiment 1, except by 1 line."
      ]
    },
    {
      "cell_type": "code",
      "execution_count": null,
      "metadata": {
        "id": "teaYowit4Ndl"
      },
      "outputs": [],
      "source": [
        "# Create new model\n",
        "model = create_model()[0]\n",
        "\n",
        "# Create loss function and optimizer\n",
        "loss_fn = torch.nn.CrossEntropyLoss()\n",
        "optimizer = torch.optim.Adam(params=model.parameters(), lr=0.001)\n",
        "\n",
        "# Compile the model\n",
        "import time\n",
        "compile_start_time = time.time()\n",
        "compiled_model = torch.compile(model)\n",
        "compile_end_time = time.time()\n",
        "compile_time = compile_end_time - compile_start_time\n",
        "print(f\"Time to compile = {compile_time} | Note: the first time you compile a model/train a compiled model, the first epoch may take longer due to optimizations happening behind the scenes\")\n",
        "\n",
        "# Train the compiled model\n",
        "single_run_compile_results = train(model=compiled_model.to(device),\n",
        "                                   train_dataloader=train_dataloader,\n",
        "                                   test_dataloader=test_dataloader,\n",
        "                                   optimizer = optimizer,\n",
        "                                   loss_fn = loss_fn,\n",
        "                                   epochs=5,\n",
        "                                   device=device)"
      ]
    },
    {
      "cell_type": "markdown",
      "metadata": {
        "id": "a7NYUyz3-ghI"
      },
      "source": [
        "### 3.3 Compare the results of experiment 1 and 2"
      ]
    },
    {
      "cell_type": "code",
      "execution_count": null,
      "metadata": {
        "id": "2VFV-nBh-lCl"
      },
      "outputs": [],
      "source": [
        "# Turn experiment results into dataframes\n",
        "import pandas as pd\n",
        "single_run_no_compile_results_df = pd.DataFrame(single_run_no_compile_results)\n",
        "single_run_compile_results_df = pd.DataFrame(single_run_compile_results)"
      ]
    },
    {
      "cell_type": "code",
      "execution_count": null,
      "metadata": {
        "id": "Jk1fJaKC-8fA"
      },
      "outputs": [],
      "source": [
        "single_run_no_compile_results_df"
      ]
    },
    {
      "cell_type": "code",
      "execution_count": null,
      "metadata": {
        "id": "91KwjHNv--NS"
      },
      "outputs": [],
      "source": [
        "single_run_compile_results_df"
      ]
    },
    {
      "cell_type": "code",
      "execution_count": null,
      "metadata": {
        "id": "ei3zEP___EdW"
      },
      "outputs": [],
      "source": [
        "DATASET_NAME = \"CIFAR10\"\n",
        "MODEL_NAME = \"ResNet50\""
      ]
    },
    {
      "cell_type": "code",
      "execution_count": null,
      "metadata": {
        "id": "WxtRTLW2_K7Z"
      },
      "outputs": [],
      "source": [
        "import matplotlib.pyplot as plt\n",
        "import numpy as np\n",
        "\n",
        "def plot_mean_epoch_times(non_compiled_results: pd.DataFrame,\n",
        "                          compiled_results: pd.DataFrame,\n",
        "                          multi_runs: bool=False,\n",
        "                          num_runs: int=0,\n",
        "                          save: bool=False,\n",
        "                          save_path: str=\"\",\n",
        "                          dataset_name: str=DATASET_NAME,\n",
        "                          model_name: str=MODEL_NAME,\n",
        "                          num_epochs: int=5,\n",
        "                          image_size: int=IMAGE_SIZE,\n",
        "                          batch_size: int=BATCH_SIZE) -> plt.figure:\n",
        "\n",
        "    # Get the mean epoch times from the non-compiled models\n",
        "    mean_train_epoch_time = non_compiled_results.train_epoch_time.mean()\n",
        "    mean_test_epoch_time = non_compiled_results.test_epoch_time.mean()\n",
        "    mean_results = [mean_train_epoch_time, mean_test_epoch_time]\n",
        "\n",
        "    # Get the mean epoch times from the compiled models\n",
        "    mean_compile_train_epoch_time = compiled_results.train_epoch_time.mean()\n",
        "    mean_compile_test_epoch_time = compiled_results.test_epoch_time.mean()\n",
        "    mean_compile_results = [mean_compile_train_epoch_time, mean_compile_test_epoch_time]\n",
        "\n",
        "    # Calculate the percentage difference between the mean compile and non-compile train epoch times\n",
        "    train_epoch_time_diff = mean_compile_train_epoch_time - mean_train_epoch_time\n",
        "    train_epoch_time_diff_percent = (train_epoch_time_diff / mean_train_epoch_time) * 100\n",
        "\n",
        "    # Calculate the percentage difference between the mean compile and non-compile test epoch times\n",
        "    test_epoch_time_diff = mean_compile_test_epoch_time - mean_test_epoch_time\n",
        "    test_epoch_time_diff_percent = (test_epoch_time_diff / mean_test_epoch_time) * 100\n",
        "\n",
        "    # Print the mean difference percentages\n",
        "    print(f\"Mean train epoch time difference: {round(train_epoch_time_diff_percent, 3)}% (negative means faster)\")\n",
        "    print(f\"Mean test epoch time difference: {round(test_epoch_time_diff_percent, 3)}% (negative means faster)\")\n",
        "\n",
        "    # Create a bar plot of the mean train and test epoch time for both compiled and non-compiled models\n",
        "    plt.figure(figsize=(10, 7))\n",
        "    width = 0.3\n",
        "    x_indicies = np.arange(len(mean_results))\n",
        "\n",
        "    plt.bar(x=x_indicies, height=mean_results, width=width, label=\"non_compiled_results\")\n",
        "    plt.bar(x=x_indicies + width, height=mean_compile_results, width=width, label=\"compiled_results\")\n",
        "    plt.xticks(x_indicies + width / 2, (\"Train Epoch\", \"Test Epoch\"))\n",
        "    plt.ylabel(\"Mean epoch time (seconds, lower is better)\")\n",
        "\n",
        "    # Create the title based on the parameters passed to the function\n",
        "    if multi_runs:\n",
        "        plt.suptitle(\"Multiple run results\")\n",
        "        plt.title(f\"GPU: T4 | Epochs: {num_epochs} ({num_runs} runs) | Data: {dataset_name} | Model: {model_name} | Image size: {image_size} | Batch size: {batch_size}\")\n",
        "    else:\n",
        "        plt.suptitle(\"Single run results\")\n",
        "        plt.title(f\"GPU: T4 | Epochs: {num_epochs} | Data: {dataset_name} | Model: {model_name} | Image size: {image_size} | Batch size: {batch_size}\")\n",
        "    plt.legend();\n",
        "\n",
        "    # Save the figure\n",
        "    if save:\n",
        "        assert save_path != \"\", \"Please specify a save path to save the model figure to via the save_path parameter.\"\n",
        "        plt.savefig(save_path)\n",
        "        print(f\"[INFO] Plot saved to {save_path}\")"
      ]
    },
    {
      "cell_type": "code",
      "execution_count": null,
      "metadata": {
        "id": "baZif3Nh_olS"
      },
      "outputs": [],
      "source": [
        "# Create directory for savin figures\n",
        "import os\n",
        "dir_to_save_figures = \"pytorch_2_results/figures/\"\n",
        "os.makedirs(dir_to_save_figures, exist_ok=True)\n",
        "\n",
        "# Create a save path for the sinle run results\n",
        "save_path_single_run = f\"{dir_to_save_figures}single_run_T4_{MODEL_NAME}_{DATASET_NAME}_{IMAGE_SIZE}\"\n",
        "print(f\"[INFO] Save path for single run methods: {save_path_single_run}\")\n",
        "\n",
        "# Plot the results and save the figure(s)\n",
        "plot_mean_epoch_times(non_compiled_results=single_run_no_compile_results_df,\n",
        "                      compiled_results=single_run_compile_results_df,\n",
        "                      multi_runs=False,\n",
        "                      save_path=save_path_single_run,\n",
        "                      save=True)"
      ]
    },
    {
      "cell_type": "markdown",
      "metadata": {
        "id": "rmyfyyxdCKQo"
      },
      "source": [
        "### 3.4 Save single run results to file with GPU details"
      ]
    },
    {
      "cell_type": "code",
      "execution_count": null,
      "metadata": {
        "id": "DBAsrY9JB8fn"
      },
      "outputs": [],
      "source": [
        "# Make a directory for single_run results\n",
        "import os\n",
        "pytorch_2_results_dir = \"pytorch_2_results\"\n",
        "pytorch_2_single_run_results_dir = f\"{pytorch_2_results_dir}/single_run_results\"\n",
        "os.makedirs(pytorch_2_single_run_results_dir, exist_ok=True)\n",
        "\n",
        "# Create filenames for each of the dataframes\n",
        "save_name_for_non_compiled_results = f\"single_run_non_compiled_results_{DATASET_NAME}_{MODEL_NAME}_T4.csv\"\n",
        "save_name_for_compiled_results = f\"single_run_compiled_results_{DATASET_NAME}_{MODEL_NAME}_T4.csv\"\n",
        "\n",
        "# Create filepaths to save the results to\n",
        "single_run_no_compile_save_path = f\"{pytorch_2_single_run_results_dir}/{save_name_for_non_compiled_results}\"\n",
        "single_run_compile_save_path = f\"{pytorch_2_single_run_results_dir}/{save_name_for_compiled_results}\"\n",
        "print(f\"[INFO] Saving non-compiled experiment 1 results to: {single_run_no_compile_save_path}\")\n",
        "print(f\"[INFO] Saving compiled experiment 2 results to: {single_run_compile_save_path}\")\n",
        "\n",
        "# Save the results\n",
        "single_run_no_compile_results_df.to_csv(single_run_no_compile_save_path)\n",
        "single_run_compile_results_df.to_csv(single_run_compile_save_path)"
      ]
    },
    {
      "cell_type": "markdown",
      "metadata": {
        "id": "Sf1ZBxAICdPp"
      },
      "source": [
        "## 4. Time models across multiple runs\n",
        "\n",
        "Time for multi-run experiments!\n",
        "\n",
        "* Experiment 3 - 3x5 epochs without `torch.compile()`\n",
        "* Experiment 4 - 3x5 epochs with `torch.compile()`\n",
        "\n",
        "Before running experiment 3 and 4, let's create 3 functions:\n",
        "1. **Experiment 3:** `create_and_train_non_compiled_model()` - creates and trains a model for a single run (can put this function in a loop for multiple runs).\n",
        "2. **Experiment 4:** `create_compiled_model()` - creates and compiles a model, returns the compiled model.\n",
        "3. **Experiment 4:** `train_compiled_model()` - trains a compiled model for a single run (can put this in a loop to train for multiple runs)."
      ]
    },
    {
      "cell_type": "code",
      "execution_count": null,
      "metadata": {
        "id": "v57D5RJ7uqdt"
      },
      "outputs": [],
      "source": [
        "NUM_EPOCHS=5\n",
        "LEARNING_RATE=1e-3\n",
        "def create_and_train_non_compiled_model(epochs=NUM_EPOCHS,\n",
        "                                        learning_rate=LEARNING_RATE,\n",
        "                                        disable_progress_bar=False):\n",
        "  \"\"\"\n",
        "  Create and train a non-compiled PyTorch model\n",
        "  \"\"\"\n",
        "  model = create_model()[0].to(device)\n",
        "  optimizer = torch.optim.Adam(params=model.parameters(), lr=learning_rate)\n",
        "  loss_fn = torch.nn.CrossEntropyLoss()\n",
        "\n",
        "  results = train(model=model,\n",
        "                  train_dataloader=train_dataloader,\n",
        "                  test_dataloader=test_dataloader,\n",
        "                  loss_fn=loss_fn,\n",
        "                  optimizer=optimizer,\n",
        "                  epochs=epochs,\n",
        "                  device=device,\n",
        "                  disable_progress_bar=disable_progress_bar\n",
        "                  )\n",
        "  return results\n",
        "\n",
        "def create_compiled_model():\n",
        "  \"\"\"\n",
        "  Create a compiled PyTorch model and return it.\n",
        "  \"\"\"\n",
        "  model = create_model()[0].to(device)\n",
        "\n",
        "  compile_start_time = time.time()\n",
        "\n",
        "  ### New in PyTorch 2.0 ###\n",
        "  compiled_model = torch.compile(model)\n",
        "\n",
        "  compile_end_time = time.time()\n",
        "  compile_time = compile_end_time - compile_start_time\n",
        "\n",
        "  print(f\"[INFO] Model compile time: {round(compile_time, 5)}\")\n",
        "\n",
        "  return compiled_model\n",
        "\n",
        "def train_compiled_model(model=compiled_model,\n",
        "                         epochs=NUM_EPOCHS,\n",
        "                         learning_rate=LEARNING_RATE,\n",
        "                         disable_progress_bar=False):\n",
        "  \"\"\"\n",
        "  Train a compiled PyTorch model and return the results.\n",
        "  \"\"\"\n",
        "  loss_fn = torch.nn.CrossEntropyLoss()\n",
        "  optimizer = torch.optim.Adam(params=model.parameters(), lr=learning_rate)\n",
        "\n",
        "  compile_results = train(model=model,\n",
        "                          train_dataloader=train_dataloader,\n",
        "                          test_dataloader=test_dataloader,\n",
        "                          loss_fn=loss_fn,\n",
        "                          optimizer=optimizer,\n",
        "                          epochs=epochs,\n",
        "                          device=device,\n",
        "                          disable_progress_bar=disable_progress_bar\n",
        "                          )\n",
        "  return compile_results"
      ]
    },
    {
      "cell_type": "markdown",
      "metadata": {
        "id": "-iNEpfX45aDj"
      },
      "source": [
        "### 4.1 Experiment 3 - Multiple runs, no compile\n",
        "\n",
        "**Note:** Because we're running multiple runs, the code below may take a while to run.\n",
        "\n",
        "> One of the most painful things of machine learning is that models take a while to train and one of the most beautiful things or machine learning is that models take a while to train."
      ]
    },
    {
      "cell_type": "code",
      "execution_count": null,
      "metadata": {
        "id": "4OEXBouy5ksw"
      },
      "outputs": [],
      "source": [
        "# Run non-compiled model for multiple runs\n",
        "NUM_RUNS = 3\n",
        "NUM_EPOCHS = 5\n",
        "\n",
        "# Create an empty list to store multiple run results\n",
        "non_compile_results_multiple_runs = []\n",
        "\n",
        "# Run non-compile model for multiple runs\n",
        "for i in tqdm(range(NUM_RUNS)):\n",
        "  print(f\"[INFO] Run {i+1} of {NUM_RUNS} for non-compiled model\")\n",
        "  results = create_and_train_non_compiled_model(epochs=NUM_EPOCHS,\n",
        "                                                disable_progress_bar=True)\n",
        "  non_compile_results_multiple_runs.append(results)\n"
      ]
    },
    {
      "cell_type": "code",
      "execution_count": null,
      "metadata": {
        "id": "dBgTDVlu7WoP"
      },
      "outputs": [],
      "source": [
        "# Go through the non_compile_results_multiple_runs and create a dataframe for each and then combine each dataframe\n",
        "non_compile_results_dfs = []\n",
        "for result in non_compile_results_multiple_runs:\n",
        "  result_df = pd.DataFrame(result)\n",
        "  non_compile_results_dfs.append(result_df)\n",
        "\n",
        "non_compile_results_multiple_runs_df = pd.concat(non_compile_results_dfs)\n",
        "\n",
        "# Get the average results across the board\n",
        "non_compile_results_multiple_runs_df = non_compile_results_multiple_runs_df.groupby(non_compile_results_multiple_runs_df.index).mean()\n",
        "non_compile_results_multiple_runs_df"
      ]
    },
    {
      "cell_type": "markdown",
      "metadata": {
        "id": "XBnDvL_68ojJ"
      },
      "source": [
        "### 4.2 Experiment 4 - multiple runs with compile"
      ]
    },
    {
      "cell_type": "code",
      "execution_count": null,
      "metadata": {
        "colab": {
          "background_save": true
        },
        "id": "_JrNjJig8thu"
      },
      "outputs": [],
      "source": [
        "# Create compiled model\n",
        "compiled_model = create_compiled_model()\n",
        "\n",
        "# Create an empty list to store compiled model result runs\n",
        "compile_results_multiple_runs = []\n",
        "\n",
        "# Run compiled model for multiple training runs\n",
        "for i in tqdm(range(NUM_RUNS)):\n",
        "  print(f\"[INFO] Run {i+1} of {NUM_RUNS} for compiled model\")\n",
        "  results = train_compiled_model(model=compiled_model,\n",
        "                                 epochs=NUM_EPOCHS,\n",
        "                                 disable_progress_bar=True)\n",
        "  compile_results_multiple_runs.append(results)\n"
      ]
    },
    {
      "cell_type": "code",
      "execution_count": null,
      "metadata": {
        "colab": {
          "background_save": true
        },
        "id": "bgRRKCt69OXh"
      },
      "outputs": [],
      "source": [
        "compile_results = []\n",
        "for result in compile_results_multiple_runs:\n",
        "  result_df = pd.DataFrame(result)\n",
        "  compile_results.append(result_df)\n",
        "\n",
        "compile_results_multiple_runs_df = pd.concat(compile_results)\n",
        "\n",
        "# Get the average across all the runs for the compiled model\n",
        "compile_results_multiple_runs_df = compile_results_multiple_runs_df.groupby(compile_results_multiple_runs_df.index).mean()\n",
        "compile_results_multiple_runs_df"
      ]
    },
    {
      "cell_type": "markdown",
      "metadata": {
        "id": "q_7D1wR6DM6K"
      },
      "source": [
        "### 4.3 Compare results of eperiment 3 and 4"
      ]
    },
    {
      "cell_type": "code",
      "execution_count": null,
      "metadata": {
        "colab": {
          "background_save": true
        },
        "id": "lGsBLgUkBSr2"
      },
      "outputs": [],
      "source": [
        "# Create a directory to save the multi-run figure to\n",
        "os.makedirs(\"pytorch_2_results/figures\", exist_ok=True)\n",
        "\n",
        "# Create a path to save the figure for multiple runs\n",
        "save_path_multi_run = f\"pytorch_2_results/figures/multi_run_T4_{MODEL_NAME}_{DATASET_NAME}_{IMAGE_SIZE}_train_epoch_time.png\"\n",
        "\n",
        "# Plot the mean epoch times for experiment 3 and 4\n",
        "plot_mean_epoch_times(non_compiled_results=non_compile_results_multiple_runs_df,\n",
        "                      compiled_results=compile_results_multiple_runs_df,\n",
        "                      multi_runs=True,\n",
        "                      num_runs=NUM_RUNS,\n",
        "                      save_path=save_path_multi_run,\n",
        "                      save=True)"
      ]
    },
    {
      "cell_type": "markdown",
      "metadata": {
        "id": "Bvjxs8eCDudq"
      },
      "source": [
        "### 4.4 Save multi runs results to file"
      ]
    },
    {
      "cell_type": "code",
      "execution_count": null,
      "metadata": {
        "colab": {
          "background_save": true
        },
        "id": "ej64cTPiDtaN"
      },
      "outputs": [],
      "source": [
        "# Make a directory for multi_run results\n",
        "import os\n",
        "pytorch_2_results_dir = \"pytorch_2_results\"\n",
        "pytorch_2_multi_run_results_dir = f\"{pytorch_2_results_dir}/multi_run_results\"\n",
        "os.makedirs(pytorch_2_multi_run_results_dir, exist_ok=True)\n",
        "\n",
        "# Create filenames for each of the dataframes\n",
        "save_name_for_multi_run_non_compiled_results = f\"multi_run_non_compiled_results_{NUM_RUNS}_runs_{DATASET_NAME}_{MODEL_NAME}_T4.csv\"\n",
        "save_name_for_multi_run_compiled_results = f\"multi_run_compiled_results_{NUM_RUNS}_runs_{DATASET_NAME}_{MODEL_NAME}_T4.csv\"\n",
        "\n",
        "# Create filepaths to save the results to\n",
        "multi_run_no_compile_save_path = f\"{pytorch_2_multi_run_results_dir}/{save_name_for_non_compiled_results}\"\n",
        "multi_run_compile_save_path = f\"{pytorch_2_multi_run_results_dir}/{save_name_for_compiled_results}\"\n",
        "print(f\"[INFO] Saving experiment 3 non-compiled results to: {multi_run_no_compile_save_path}\")\n",
        "print(f\"[INFO] Saving experiment 4 compiled results to: {multi_run_compile_save_path}\")\n",
        "\n",
        "# Save the results\n",
        "non_compile_results_multiple_runs_df.to_csv(multi_run_no_compile_save_path)\n",
        "compile_results_multiple_runs_df.to_csv(multi_run_compile_save_path)"
      ]
    },
    {
      "cell_type": "markdown",
      "metadata": {
        "id": "h1etd_LjEW2z"
      },
      "source": [
        "## 5. Possible improvements and extensions\n",
        "\n",
        "1. More powerful CPUs - to load data to the GPU as quickly as possible, relative speedups come from using as much of the GPU as possible.\n",
        "2. Use mixed precision training - uses a combination of float32 and float16 to train a model (generally improves model training time).\n",
        "3. Transformer based models may see more relative speedups than convolutional.\n",
        "4. Train for longer - the longer we train, the more we can benefit from the optimization steps that `torch.compile()` does up front."
      ]
    },
    {
      "cell_type": "markdown",
      "metadata": {
        "id": "rSTVQM-GFY51"
      },
      "source": [
        "## 6. Resources to learn more\n",
        "See more at - https://www.learnpytorch.io/pytorch_2_intro/#6-resources-to-learn-more"
      ]
    }
  ],
  "metadata": {
    "accelerator": "GPU",
    "colab": {
      "gpuType": "T4",
      "provenance": [],
      "authorship_tag": "ABX9TyOAOu+DRXrFk85zTuyClsSx",
      "include_colab_link": true
    },
    "kernelspec": {
      "display_name": "Python 3",
      "name": "python3"
    },
    "language_info": {
      "name": "python"
    }
  },
  "nbformat": 4,
  "nbformat_minor": 0
}